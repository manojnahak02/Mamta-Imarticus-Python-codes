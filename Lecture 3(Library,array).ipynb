{
 "cells": [
  {
   "cell_type": "code",
   "execution_count": 3,
   "metadata": {},
   "outputs": [
    {
     "data": {
      "text/plain": [
       "'1.16.2'"
      ]
     },
     "execution_count": 3,
     "metadata": {},
     "output_type": "execute_result"
    }
   ],
   "source": [
    "import numpy as np\n",
    "np.__version__   #to check the version we pass this attribute if it is in braket we say it as function"
   ]
  },
  {
   "cell_type": "code",
   "execution_count": 4,
   "metadata": {},
   "outputs": [
    {
     "name": "stdout",
     "output_type": "stream",
     "text": [
      "[1 2 3]\n",
      "<class 'numpy.ndarray'>\n"
     ]
    }
   ],
   "source": [
    "a=np.array([1,2,3])\n",
    "print(a)\n",
    "print(type(a))"
   ]
  },
  {
   "cell_type": "code",
   "execution_count": 11,
   "metadata": {},
   "outputs": [
    {
     "name": "stdout",
     "output_type": "stream",
     "text": [
      "[[1 2 3]\n",
      " [4 5 6]]\n",
      "2\n",
      "(2, 3)\n"
     ]
    }
   ],
   "source": [
    "a=np.array([[1,2,3],(4,5,6)])\n",
    "print(a)\n",
    "print(a.ndim)\n",
    "print(a.shape)"
   ]
  },
  {
   "cell_type": "code",
   "execution_count": 9,
   "metadata": {},
   "outputs": [
    {
     "name": "stdout",
     "output_type": "stream",
     "text": [
      "[(1, 2, 3, 4) (4, 5, 6)]\n",
      "1\n"
     ]
    }
   ],
   "source": [
    "a=np.array([(1,2,3,4),(4,5,6)]) #unequal number in data will end up with wrong output \n",
    "print(a)\n",
    "print(a.ndim)"
   ]
  },
  {
   "cell_type": "code",
   "execution_count": 12,
   "metadata": {},
   "outputs": [
    {
     "name": "stdout",
     "output_type": "stream",
     "text": [
      "[[1. 1. 1. 1.]\n",
      " [1. 1. 1. 1.]\n",
      " [1. 1. 1. 1.]] \n",
      "\n",
      "[[1. 1. 1. 1.]\n",
      " [1. 1. 1. 1.]\n",
      " [1. 1. 1. 1.]]\n"
     ]
    }
   ],
   "source": [
    "a,b=np.ones((2,3,4))\n",
    "print(a,\"\\n\")\n",
    "print(b)"
   ]
  },
  {
   "cell_type": "code",
   "execution_count": 19,
   "metadata": {},
   "outputs": [
    {
     "name": "stdout",
     "output_type": "stream",
     "text": [
      "enter number for a1\n",
      "enter number for a2\n",
      "enter number for a3\n",
      "enter number for a4\n",
      "enter number for a5\n",
      "[1, 2, 3, 4, 5]\n",
      "enter number for a1\n",
      "enter number for a2\n",
      "enter number for a34\n",
      "enter number for a4\n",
      "enter number for a5\n",
      "[1, 2, 34, 4, 5]\n"
     ]
    },
    {
     "ename": "TypeError",
     "evalue": "data type not understood",
     "output_type": "error",
     "traceback": [
      "\u001b[1;31m---------------------------------------------------------------------------\u001b[0m",
      "\u001b[1;31mTypeError\u001b[0m                                 Traceback (most recent call last)",
      "\u001b[1;32m<ipython-input-19-db168de4ec5f>\u001b[0m in \u001b[0;36m<module>\u001b[1;34m\u001b[0m\n\u001b[0;32m     13\u001b[0m     \u001b[0mb\u001b[0m\u001b[1;33m+=\u001b[0m\u001b[1;36m1\u001b[0m\u001b[1;33m\u001b[0m\u001b[1;33m\u001b[0m\u001b[0m\n\u001b[0;32m     14\u001b[0m \u001b[0mprint\u001b[0m\u001b[1;33m(\u001b[0m\u001b[0mlist2\u001b[0m\u001b[1;33m)\u001b[0m\u001b[1;33m\u001b[0m\u001b[1;33m\u001b[0m\u001b[0m\n\u001b[1;32m---> 15\u001b[1;33m \u001b[0mc\u001b[0m\u001b[1;33m=\u001b[0m\u001b[0mnp\u001b[0m\u001b[1;33m.\u001b[0m\u001b[0marray\u001b[0m\u001b[1;33m(\u001b[0m\u001b[0mlist1\u001b[0m\u001b[1;33m,\u001b[0m\u001b[0mlist2\u001b[0m\u001b[1;33m)\u001b[0m\u001b[1;33m\u001b[0m\u001b[1;33m\u001b[0m\u001b[0m\n\u001b[0m\u001b[0;32m     16\u001b[0m \u001b[0mprint\u001b[0m\u001b[1;33m(\u001b[0m\u001b[0mc\u001b[0m\u001b[1;33m)\u001b[0m\u001b[1;33m\u001b[0m\u001b[1;33m\u001b[0m\u001b[0m\n",
      "\u001b[1;31mTypeError\u001b[0m: data type not understood"
     ]
    }
   ],
   "source": [
    "list1=[]\n",
    "a=1\n",
    "while(a<=5):\n",
    "    value=int(input(\"enter number for a\"))\n",
    "    list1.append(value)\n",
    "    a+=1\n",
    "print(list1)\n",
    "list2=[]\n",
    "b=1\n",
    "while(b<=5):\n",
    "    value=int(input(\"enter number for a\"))\n",
    "    list2.append(value)\n",
    "    b+=1\n",
    "print(list2)\n",
    "c=np.array(list1,list2)\n",
    "print(c)"
   ]
  },
  {
   "cell_type": "code",
   "execution_count": 27,
   "metadata": {},
   "outputs": [
    {
     "name": "stdout",
     "output_type": "stream",
     "text": [
      "Enter the number of rows:2\n",
      "Enter the number of columns:2\n",
      "Enter the entries rowwise:\n",
      "1\n",
      "2\n",
      "3\n",
      "4\n",
      "1 2 \n",
      "3 4 \n"
     ]
    }
   ],
   "source": [
    "R = int(input(\"Enter the number of rows:\")) \n",
    "C = int(input(\"Enter the number of columns:\")) \n",
    "  \n",
    "# Initialize matrix \n",
    "matrix = [] \n",
    "print(\"Enter the entries rowwise:\") \n",
    "  \n",
    "# For user input \n",
    "for i in range(R):          # A for loop for row entries \n",
    "    a =[] \n",
    "    for j in range(C):      # A for loop for column entries \n",
    "         a.append(int(input())) \n",
    "    matrix.append(a) \n",
    "  \n",
    "# For printing the matrix \n",
    "for i in range(R): \n",
    "    for j in range(C): \n",
    "        print(matrix[i][j], end = \" \") \n",
    "    print() "
   ]
  },
  {
   "cell_type": "code",
   "execution_count": 21,
   "metadata": {},
   "outputs": [
    {
     "name": "stdout",
     "output_type": "stream",
     "text": [
      "[[0 0 0 0]\n",
      " [0 0 0 0]\n",
      " [0 0 0 0]] \n",
      "\n",
      "[[0 0 0 0]\n",
      " [0 0 0 0]\n",
      " [0 0 0 0]]\n"
     ]
    }
   ],
   "source": [
    "a,b=np.zeros((2,3,4), dtype=np.int)\n",
    "print(a,\"\\n\")\n",
    "print(b)"
   ]
  },
  {
   "cell_type": "code",
   "execution_count": 20,
   "metadata": {},
   "outputs": [
    {
     "name": "stdout",
     "output_type": "stream",
     "text": [
      "[[5 5]\n",
      " [5 5]] \n",
      "\n",
      "[[5 5]\n",
      " [5 5]]\n"
     ]
    }
   ],
   "source": [
    "c,d=np.full((2,2,2),5)\n",
    "print(c,\"\\n\")\n",
    "print(d)"
   ]
  },
  {
   "cell_type": "code",
   "execution_count": 22,
   "metadata": {},
   "outputs": [
    {
     "name": "stdout",
     "output_type": "stream",
     "text": [
      "[[1 0 0]\n",
      " [0 1 0]\n",
      " [0 0 1]]\n"
     ]
    }
   ],
   "source": [
    "a=np.identity(3,dtype=np.int)\n",
    "print(a)"
   ]
  },
  {
   "cell_type": "code",
   "execution_count": 25,
   "metadata": {},
   "outputs": [
    {
     "name": "stdout",
     "output_type": "stream",
     "text": [
      "[[0.34183225 0.6220025 ]\n",
      " [0.13503649 0.83881436]\n",
      " [0.26013591 0.67383479]\n",
      " [0.46812012 0.53471965]\n",
      " [0.93964941 0.98323928]]\n",
      "[[83 65 84 51]\n",
      " [73 76 54 98]\n",
      " [66 62 80 94]]\n"
     ]
    },
    {
     "name": "stderr",
     "output_type": "stream",
     "text": [
      "C:\\Users\\Mamta\\Anaconda3\\lib\\site-packages\\ipykernel_launcher.py:4: DeprecationWarning: This function is deprecated. Please call randint(50, 100 + 1) instead\n",
      "  after removing the cwd from sys.path.\n"
     ]
    }
   ],
   "source": [
    "a=np.random.random((5,2))    #1st random to call the package and 2nd to call the function\n",
    "print(a)\n",
    "\n",
    "a=np.random.random_integers(50,100,(3,4))\n",
    "print(a)"
   ]
  },
  {
   "cell_type": "code",
   "execution_count": 33,
   "metadata": {},
   "outputs": [
    {
     "name": "stdout",
     "output_type": "stream",
     "text": [
      "[[1 2 3 4]\n",
      " [4 5 6 7]]\n",
      "8\n",
      "(2, 4)\n"
     ]
    }
   ],
   "source": [
    "a=np.array([(1,2,3,4),(4,5,6,7)])\n",
    "print(a)\n",
    "print(a.size)\n",
    "print(a.shape)"
   ]
  },
  {
   "cell_type": "code",
   "execution_count": 35,
   "metadata": {},
   "outputs": [
    {
     "name": "stdout",
     "output_type": "stream",
     "text": [
      "[[1 2 3]\n",
      " [4 4 5]\n",
      " [6 7 1]\n",
      " [2 3 4]\n",
      " [4 5 6]\n",
      " [7 1 2]] \n",
      "\n",
      "[[1 2 3 4 4 5 6 7 1]\n",
      " [2 3 4 4 5 6 7 1 2]]\n"
     ]
    }
   ],
   "source": [
    "a=np.resize(a,(6,3))\n",
    "print(a,\"\\n\")\n",
    "a=np.reshape(a,(2,9))  #it will only chnge the shape it will not repeate the element to reache the specified value\n",
    "                        #for eg if i have 3*4=12 element then to reshape should also contain the same no. of element\n",
    "                        #we wont modify the data in reshape..\"\"we modify the data by resize\"\"\n",
    "print(a)"
   ]
  },
  {
   "cell_type": "code",
   "execution_count": 41,
   "metadata": {},
   "outputs": [
    {
     "name": "stdout",
     "output_type": "stream",
     "text": [
      "[[ 1  2  3  4]\n",
      " [ 3  4  5  6]\n",
      " [ 8  9 10 11]]\n",
      "3\n",
      "[ 3  5 10]\n",
      "\n",
      "[[1 2 3]\n",
      " [3 4 5]]\n"
     ]
    }
   ],
   "source": [
    "#Indexing and slicing\n",
    "\n",
    "a=np.array([(1,2,3,4),(3,4,5,6),(8,9,10,11)])\n",
    "print(a)\n",
    "print(a[0,2])\n",
    "print(a[:,2])\n",
    "print()\n",
    "print(a[0:2,0:3])\n",
    "\n"
   ]
  },
  {
   "cell_type": "code",
   "execution_count": 52,
   "metadata": {},
   "outputs": [
    {
     "name": "stdout",
     "output_type": "stream",
     "text": [
      "[ 1.   3.6  6.2  8.8 11.4 14. ]\n",
      "[ 0  2  4  6  8 10 12 14 16 18 20 22]\n",
      "[100  98  96  94  92  90  88  86  84  82  80  78  76  74  72  70]\n"
     ]
    }
   ],
   "source": [
    "a=np.linspace(1,14,6)  #(1,14 is range dividing it in 6 equal parts)\n",
    "print(a)\n",
    "a=np.arange(0,24,2)    # (0,25 range start from zero and it will exclide the last value i.e 24 and it will increment\n",
    "                                        #the value by specific interval)\n",
    "print(a)\n",
    "\n",
    "a=np.arange(100,69,-2)\n",
    "print(a)"
   ]
  },
  {
   "cell_type": "code",
   "execution_count": 56,
   "metadata": {},
   "outputs": [
    {
     "name": "stdout",
     "output_type": "stream",
     "text": [
      "3\n",
      "6\n",
      "8\n",
      "13\n",
      "63\n",
      "10.5\n",
      "<built-in method mean of numpy.ndarray object at 0x0000018872D1A850>\n"
     ]
    }
   ],
   "source": [
    "#aggregate functon\n",
    "a=np.array([(8,9),(10,11),(12,13)])\n",
    "print(len(a)) #it will only give us the number of tuples not the number of values present in tuple\n",
    "print(a.size)\n",
    "print(a.min())\n",
    "print(a.max())\n",
    "print(a.sum())\n",
    "print(a.sum()/a.size)\n",
    "print(a.mean)"
   ]
  },
  {
   "cell_type": "code",
   "execution_count": 59,
   "metadata": {},
   "outputs": [
    {
     "name": "stdout",
     "output_type": "stream",
     "text": [
      "[[1.         0.         1.73205081]\n",
      " [1.73205081 2.         2.23606798]] \n",
      "\n",
      "1.699673171197595 \n",
      "\n",
      "[[0.               -inf 1.09861229]\n",
      " [1.09861229 1.38629436 1.60943791]] \n",
      "\n",
      "[[1.   0.   1.73]\n",
      " [1.73 2.   2.24]]\n"
     ]
    },
    {
     "name": "stderr",
     "output_type": "stream",
     "text": [
      "C:\\Users\\Mamta\\Anaconda3\\lib\\site-packages\\ipykernel_launcher.py:4: RuntimeWarning: divide by zero encountered in log\n",
      "  after removing the cwd from sys.path.\n"
     ]
    }
   ],
   "source": [
    "a=np.array([(1,0,3),(3,4,5)])\n",
    "print(np.sqrt(a),\"\\n\")\n",
    "print(np.std(a),\"\\n\")\n",
    "print(np.log(a),\"\\n\")\n",
    "b=np.sqrt(a)\n",
    "print(b.round(2))"
   ]
  },
  {
   "cell_type": "code",
   "execution_count": null,
   "metadata": {},
   "outputs": [],
   "source": [
    "##ARRAY PROCESSING FUNCTION\n"
   ]
  },
  {
   "cell_type": "code",
   "execution_count": 5,
   "metadata": {},
   "outputs": [
    {
     "name": "stdout",
     "output_type": "stream",
     "text": [
      "[[1 2]\n",
      " [3 4]] \n",
      "\n",
      "[[5 6]\n",
      " [3 4]] \n",
      "\n",
      "[[6 8]\n",
      " [6 8]] \n",
      "\n",
      "[[-4 -4]\n",
      " [ 0  0]] \n",
      "\n",
      "[[ 5 12]\n",
      " [ 9 16]] \n",
      "\n",
      "[[0.2        0.33333333]\n",
      " [1.         1.        ]] \n",
      "\n",
      "[[1 2]\n",
      " [0 0]] \n",
      "\n",
      "[[11 14]\n",
      " [27 34]] \n",
      "\n",
      "[[11 14]\n",
      " [27 34]]\n"
     ]
    }
   ],
   "source": [
    "x=np.array([(1,2),(3,4)])\n",
    "y=np.array([(5,6),(3,4)])\n",
    "print(x, \"\\n\")\n",
    "print(y,\"\\n\")\n",
    "print(x+y,\"\\n\")\n",
    "print(x-y,\"\\n\")\n",
    "print(x*y,\"\\n\")\n",
    "print(x/y,\"\\n\")\n",
    "print(x%y,\"\\n\")\n",
    "print(x@y,\"\\n\")  #dot matrix multiplication\n",
    "print(np.dot(x,y))\n",
    "\n",
    "\n",
    "#np.add(), np.suntract()  ,np.multiply(),    np.divide(),   np.remainder()"
   ]
  },
  {
   "cell_type": "code",
   "execution_count": null,
   "metadata": {},
   "outputs": [],
   "source": [
    "#   \"\"HELP\"\"\n",
    "import numpy as np\n",
    "#?np.mean\n",
    "print(np.lookfor(\"mean\"))\n",
    "help(np.zeros)\n"
   ]
  },
  {
   "cell_type": "code",
   "execution_count": 12,
   "metadata": {},
   "outputs": [
    {
     "name": "stdout",
     "output_type": "stream",
     "text": [
      "[[1 2]\n",
      " [3 4]]\n",
      "[[5 6]\n",
      " [3 4]] \n",
      "\n",
      "[[1 2]\n",
      " [3 4]\n",
      " [5 6]\n",
      " [3 4]] \n",
      "\n",
      "[[1 2]\n",
      " [3 4]\n",
      " [5 6]\n",
      " [3 4]]\n",
      "\n",
      "\n",
      "[[1 2 5 6]\n",
      " [3 4 3 4]]\n"
     ]
    }
   ],
   "source": [
    "#joining array\n",
    "\n",
    "print(x)\n",
    "print(y,\"\\n\")\n",
    "d=np.concatenate((x,y),axis=0)   #0=row wise   1=column wise\n",
    "print(d,\"\\n\")\n",
    "print(np.vstack((x,y)))   #can not perform when we have unequal number of elements in array\n",
    "print(\"\\n\")\n",
    "print(np.hstack((x,y)))   #similar array is require"
   ]
  },
  {
   "cell_type": "code",
   "execution_count": 15,
   "metadata": {},
   "outputs": [
    {
     "name": "stdout",
     "output_type": "stream",
     "text": [
      "[[1 2]\n",
      " [3 4]]\n",
      "\n",
      "[1 2 3 4] \n",
      "\n",
      "[[1 2]\n",
      " [3 4]]\n"
     ]
    }
   ],
   "source": [
    "#converting array in single row\n",
    "print(x)\n",
    "z=x.ravel()\n",
    "print()\n",
    "print(z,\"\\n\")\n",
    "print(z.reshape(2,2))"
   ]
  },
  {
   "cell_type": "code",
   "execution_count": 16,
   "metadata": {},
   "outputs": [
    {
     "name": "stdout",
     "output_type": "stream",
     "text": [
      "[ 1  2  3  3  4  5  6  7  9 10]\n",
      "[[ 1  2]\n",
      " [ 3  3]\n",
      " [ 4  5]\n",
      " [ 6  7]\n",
      " [ 9 10]]\n"
     ]
    }
   ],
   "source": [
    "#APPEND FUNCTION  is used when we want to join to matrix which h different no odf values like 2*2 and 3*3\n",
    "x=np.array([(1,2,3),(3,4,5)])\n",
    "y=np.array([(6,7),(9,10)])    #ravel work in backend it flatend the array\n",
    "new_array=np.append(x,y)\n",
    "print(new_array)\n",
    "new_array=np.reshape(new_array,(5,2))\n",
    "print(new_array)"
   ]
  },
  {
   "cell_type": "code",
   "execution_count": 18,
   "metadata": {},
   "outputs": [
    {
     "name": "stdout",
     "output_type": "stream",
     "text": [
      "[[1 2 3]\n",
      " [3 4 5]]\n",
      "[1 5 2 3 5 3 4 5]\n"
     ]
    }
   ],
   "source": [
    "x=np.array([(1,2,3),(3,4,5)])\n",
    "                        #here ravel function 1st execute at backend\n",
    "\n",
    "print(x)\n",
    "new_array=np.insert(x,[1,3],5)\n",
    "print(new_array)\n"
   ]
  },
  {
   "cell_type": "code",
   "execution_count": 19,
   "metadata": {},
   "outputs": [
    {
     "name": "stdout",
     "output_type": "stream",
     "text": [
      "[1 3 5 3 4 5]\n"
     ]
    }
   ],
   "source": [
    "new_array=np.delete(new_array,[1,2])\n",
    "print(new_array)"
   ]
  },
  {
   "cell_type": "code",
   "execution_count": 24,
   "metadata": {},
   "outputs": [
    {
     "name": "stdout",
     "output_type": "stream",
     "text": [
      "[[1 7 3]\n",
      " [3 4 5]]\n"
     ]
    }
   ],
   "source": [
    "x=np.array([(1,2,3),(3,4,5)])\n",
    "x[0,1]=7    #replacing the value\n",
    "print(x)"
   ]
  },
  {
   "cell_type": "code",
   "execution_count": 26,
   "metadata": {},
   "outputs": [
    {
     "name": "stdout",
     "output_type": "stream",
     "text": [
      "[[1 4 7]\n",
      " [2 0 8]\n",
      " [3 6 9]]\n"
     ]
    }
   ],
   "source": [
    "my_array2=np.genfromtxt(r\"D:\\MAMTA\\Data Set\\python\\sample.txt\",\n",
    "                        skip_header=1,delimiter=\",\",\n",
    "                      filling_values=0,unpack= True,dtype=np.int)\n",
    "                        #filling=0 for fill the missing value as 0 \n",
    "                        #unpack= to arrange data row or column wise it transpose the matrix\n",
    "        \n",
    "print(my_array2)           \n"
   ]
  },
  {
   "cell_type": "code",
   "execution_count": null,
   "metadata": {},
   "outputs": [],
   "source": []
  },
  {
   "cell_type": "code",
   "execution_count": null,
   "metadata": {},
   "outputs": [],
   "source": []
  }
 ],
 "metadata": {
  "kernelspec": {
   "display_name": "Python 3",
   "language": "python",
   "name": "python3"
  },
  "language_info": {
   "codemirror_mode": {
    "name": "ipython",
    "version": 3
   },
   "file_extension": ".py",
   "mimetype": "text/x-python",
   "name": "python",
   "nbconvert_exporter": "python",
   "pygments_lexer": "ipython3",
   "version": "3.7.3"
  }
 },
 "nbformat": 4,
 "nbformat_minor": 2
}
