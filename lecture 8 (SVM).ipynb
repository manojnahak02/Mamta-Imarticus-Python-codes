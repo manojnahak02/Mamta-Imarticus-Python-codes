{
 "cells": [
  {
   "cell_type": "code",
   "execution_count": null,
   "metadata": {},
   "outputs": [],
   "source": [
    "# SVM:- Supervised algorithm:-\n",
    "#    used for both classification and regression.\n",
    "#    It takes more time on train data hence it is less used to regression but prediction are fast.\n",
    "#    It is suitable for both binary and multiclass classification.\n",
    "#objective: 1. Classify the classes correctly.\n",
    "#           2. Maximize the margin(max distance from both the class)\n",
    "#           3. Robust to outlier(ignore them)\n",
    "#           4. Kernel trick--> if we have non-linear data (squr transformation) to form linear data\n",
    "#Hyper Parameter to tune the SVM:\n",
    "#       1. Kernel =Linear(very high dimensional data),rbf(radial bases function-->krnel trick \n",
    "#          part,it is default and can handel both),poly(non-linear data-->to fit polynomail hyper plan),\n",
    "#          sigmoid arguments taken by kernel      \n",
    "#       2. gamma:- It is not affected by linaer if we kept aside  \n",
    "        #Lower value:- indicate the farthest support vector.\n",
    "#       higher value:- of gamma indicate the colse support vector. lower value of gamma suppose to be consider.\n",
    "#      3. cost :-(1.0) lower the cost value it will allow to misclassification of class (high margin)\n",
    "#              High value of c will wont allow to misclassification try to give correct(lower Margin)\n",
    "#When we use SVM:1. when we have no. of variable>no. of observation"
   ]
  },
  {
   "cell_type": "code",
   "execution_count": 1,
   "metadata": {},
   "outputs": [],
   "source": [
    "import numpy as np\n",
    "import pandas as pd"
   ]
  },
  {
   "cell_type": "code",
   "execution_count": 2,
   "metadata": {},
   "outputs": [],
   "source": [
    "#loading training and test data\n",
    "train_data=pd.read_csv(r'D:\\MAMTA\\Data Set\\python\\risk_analytics_train.csv',index_col=0,header=0)\n",
    "test_data=pd.read_csv(r'D:\\MAMTA\\Data Set\\python\\risk_analytics_test.csv',index_col=0,header=0)"
   ]
  },
  {
   "cell_type": "markdown",
   "metadata": {},
   "source": [
    "# Processing the training dataset"
   ]
  },
  {
   "cell_type": "code",
   "execution_count": 3,
   "metadata": {},
   "outputs": [
    {
     "name": "stdout",
     "output_type": "stream",
     "text": [
      "(614, 12)\n"
     ]
    },
    {
     "data": {
      "text/html": [
       "<div>\n",
       "<style scoped>\n",
       "    .dataframe tbody tr th:only-of-type {\n",
       "        vertical-align: middle;\n",
       "    }\n",
       "\n",
       "    .dataframe tbody tr th {\n",
       "        vertical-align: top;\n",
       "    }\n",
       "\n",
       "    .dataframe thead th {\n",
       "        text-align: right;\n",
       "    }\n",
       "</style>\n",
       "<table border=\"1\" class=\"dataframe\">\n",
       "  <thead>\n",
       "    <tr style=\"text-align: right;\">\n",
       "      <th></th>\n",
       "      <th>Gender</th>\n",
       "      <th>Married</th>\n",
       "      <th>Dependents</th>\n",
       "      <th>Education</th>\n",
       "      <th>Self_Employed</th>\n",
       "      <th>ApplicantIncome</th>\n",
       "      <th>CoapplicantIncome</th>\n",
       "      <th>LoanAmount</th>\n",
       "      <th>Loan_Amount_Term</th>\n",
       "      <th>Credit_History</th>\n",
       "      <th>Property_Area</th>\n",
       "      <th>Loan_Status</th>\n",
       "    </tr>\n",
       "    <tr>\n",
       "      <th>Loan_ID</th>\n",
       "      <th></th>\n",
       "      <th></th>\n",
       "      <th></th>\n",
       "      <th></th>\n",
       "      <th></th>\n",
       "      <th></th>\n",
       "      <th></th>\n",
       "      <th></th>\n",
       "      <th></th>\n",
       "      <th></th>\n",
       "      <th></th>\n",
       "      <th></th>\n",
       "    </tr>\n",
       "  </thead>\n",
       "  <tbody>\n",
       "    <tr>\n",
       "      <th>LP001002</th>\n",
       "      <td>Male</td>\n",
       "      <td>No</td>\n",
       "      <td>0.0</td>\n",
       "      <td>Graduate</td>\n",
       "      <td>No</td>\n",
       "      <td>5849</td>\n",
       "      <td>0.0</td>\n",
       "      <td>NaN</td>\n",
       "      <td>360.0</td>\n",
       "      <td>1.0</td>\n",
       "      <td>Urban</td>\n",
       "      <td>Y</td>\n",
       "    </tr>\n",
       "    <tr>\n",
       "      <th>LP001003</th>\n",
       "      <td>Male</td>\n",
       "      <td>Yes</td>\n",
       "      <td>1.0</td>\n",
       "      <td>Graduate</td>\n",
       "      <td>No</td>\n",
       "      <td>4583</td>\n",
       "      <td>1508.0</td>\n",
       "      <td>128.0</td>\n",
       "      <td>360.0</td>\n",
       "      <td>1.0</td>\n",
       "      <td>Rural</td>\n",
       "      <td>N</td>\n",
       "    </tr>\n",
       "    <tr>\n",
       "      <th>LP001005</th>\n",
       "      <td>Male</td>\n",
       "      <td>Yes</td>\n",
       "      <td>0.0</td>\n",
       "      <td>Graduate</td>\n",
       "      <td>Yes</td>\n",
       "      <td>3000</td>\n",
       "      <td>0.0</td>\n",
       "      <td>66.0</td>\n",
       "      <td>360.0</td>\n",
       "      <td>1.0</td>\n",
       "      <td>Urban</td>\n",
       "      <td>Y</td>\n",
       "    </tr>\n",
       "    <tr>\n",
       "      <th>LP001006</th>\n",
       "      <td>Male</td>\n",
       "      <td>Yes</td>\n",
       "      <td>0.0</td>\n",
       "      <td>Not Graduate</td>\n",
       "      <td>No</td>\n",
       "      <td>2583</td>\n",
       "      <td>2358.0</td>\n",
       "      <td>120.0</td>\n",
       "      <td>360.0</td>\n",
       "      <td>1.0</td>\n",
       "      <td>Urban</td>\n",
       "      <td>Y</td>\n",
       "    </tr>\n",
       "    <tr>\n",
       "      <th>LP001008</th>\n",
       "      <td>Male</td>\n",
       "      <td>No</td>\n",
       "      <td>0.0</td>\n",
       "      <td>Graduate</td>\n",
       "      <td>No</td>\n",
       "      <td>6000</td>\n",
       "      <td>0.0</td>\n",
       "      <td>141.0</td>\n",
       "      <td>360.0</td>\n",
       "      <td>1.0</td>\n",
       "      <td>Urban</td>\n",
       "      <td>Y</td>\n",
       "    </tr>\n",
       "  </tbody>\n",
       "</table>\n",
       "</div>"
      ],
      "text/plain": [
       "         Gender Married  Dependents     Education Self_Employed  \\\n",
       "Loan_ID                                                           \n",
       "LP001002   Male      No         0.0      Graduate            No   \n",
       "LP001003   Male     Yes         1.0      Graduate            No   \n",
       "LP001005   Male     Yes         0.0      Graduate           Yes   \n",
       "LP001006   Male     Yes         0.0  Not Graduate            No   \n",
       "LP001008   Male      No         0.0      Graduate            No   \n",
       "\n",
       "          ApplicantIncome  CoapplicantIncome  LoanAmount  Loan_Amount_Term  \\\n",
       "Loan_ID                                                                      \n",
       "LP001002             5849                0.0         NaN             360.0   \n",
       "LP001003             4583             1508.0       128.0             360.0   \n",
       "LP001005             3000                0.0        66.0             360.0   \n",
       "LP001006             2583             2358.0       120.0             360.0   \n",
       "LP001008             6000                0.0       141.0             360.0   \n",
       "\n",
       "          Credit_History Property_Area Loan_Status  \n",
       "Loan_ID                                             \n",
       "LP001002             1.0         Urban           Y  \n",
       "LP001003             1.0         Rural           N  \n",
       "LP001005             1.0         Urban           Y  \n",
       "LP001006             1.0         Urban           Y  \n",
       "LP001008             1.0         Urban           Y  "
      ]
     },
     "execution_count": 3,
     "metadata": {},
     "output_type": "execute_result"
    }
   ],
   "source": [
    "print(train_data.shape)\n",
    "train_data.head()"
   ]
  },
  {
   "cell_type": "code",
   "execution_count": 5,
   "metadata": {},
   "outputs": [
    {
     "name": "stdout",
     "output_type": "stream",
     "text": [
      "Gender               13\n",
      "Married               3\n",
      "Dependents           15\n",
      "Education             0\n",
      "Self_Employed        32\n",
      "ApplicantIncome       0\n",
      "CoapplicantIncome     0\n",
      "LoanAmount           22\n",
      "Loan_Amount_Term     14\n",
      "Credit_History       50\n",
      "Property_Area         0\n",
      "Loan_Status           0\n",
      "dtype: int64\n"
     ]
    }
   ],
   "source": [
    "#finding the missing values\n",
    "print(train_data.isnull().sum())"
   ]
  },
  {
   "cell_type": "code",
   "execution_count": 7,
   "metadata": {},
   "outputs": [],
   "source": [
    "#imputing categorical missing data with mode value\n",
    "\n",
    "colname1=['Gender','Married','Dependents','Self_Employed','Loan_Amount_Term']\n",
    "for x in colname1:\n",
    "    train_data[x].fillna(train_data[x].mode()[0],inplace=True)"
   ]
  },
  {
   "cell_type": "code",
   "execution_count": 8,
   "metadata": {},
   "outputs": [
    {
     "name": "stdout",
     "output_type": "stream",
     "text": [
      "Gender                0\n",
      "Married               0\n",
      "Dependents            0\n",
      "Education             0\n",
      "Self_Employed         0\n",
      "ApplicantIncome       0\n",
      "CoapplicantIncome     0\n",
      "LoanAmount           22\n",
      "Loan_Amount_Term      0\n",
      "Credit_History       50\n",
      "Property_Area         0\n",
      "Loan_Status           0\n",
      "dtype: int64\n"
     ]
    }
   ],
   "source": [
    "print(train_data.isnull().sum())"
   ]
  },
  {
   "cell_type": "code",
   "execution_count": 9,
   "metadata": {},
   "outputs": [
    {
     "name": "stdout",
     "output_type": "stream",
     "text": [
      "Gender                0\n",
      "Married               0\n",
      "Dependents            0\n",
      "Education             0\n",
      "Self_Employed         0\n",
      "ApplicantIncome       0\n",
      "CoapplicantIncome     0\n",
      "LoanAmount            0\n",
      "Loan_Amount_Term      0\n",
      "Credit_History       50\n",
      "Property_Area         0\n",
      "Loan_Status           0\n",
      "dtype: int64\n"
     ]
    }
   ],
   "source": [
    "#imputing numerical missing data with mean value\n",
    "train_data['LoanAmount'].fillna(train_data['LoanAmount'].mean(),inplace=True)\n",
    "print(train_data.isnull().sum())"
   ]
  },
  {
   "cell_type": "code",
   "execution_count": 10,
   "metadata": {},
   "outputs": [
    {
     "name": "stdout",
     "output_type": "stream",
     "text": [
      "Gender               0\n",
      "Married              0\n",
      "Dependents           0\n",
      "Education            0\n",
      "Self_Employed        0\n",
      "ApplicantIncome      0\n",
      "CoapplicantIncome    0\n",
      "LoanAmount           0\n",
      "Loan_Amount_Term     0\n",
      "Credit_History       0\n",
      "Property_Area        0\n",
      "Loan_Status          0\n",
      "dtype: int64\n"
     ]
    }
   ],
   "source": [
    "#imputing values for credit history column differently\n",
    "train_data['Credit_History'].fillna(value=0,inplace=True)\n",
    "#train_data['Credit_History']=train_data['Credit_History'].fillna(value=0)\n",
    "print(train_data.isnull().sum())"
   ]
  },
  {
   "cell_type": "code",
   "execution_count": 11,
   "metadata": {},
   "outputs": [],
   "source": [
    "#transforming categorical dataa to numerical\n",
    "from sklearn import preprocessing\n",
    "colname=['Gender','Married','Education','Self_Employed','Property_Area','Loan_Status']\n",
    "le=preprocessing.LabelEncoder()\n",
    "for x in colname:\n",
    "    train_data[x]=le.fit_transform(train_data[x])\n",
    "    \n",
    "#converting loan status as y-->1 and N-->0"
   ]
  },
  {
   "cell_type": "code",
   "execution_count": 12,
   "metadata": {},
   "outputs": [
    {
     "data": {
      "text/html": [
       "<div>\n",
       "<style scoped>\n",
       "    .dataframe tbody tr th:only-of-type {\n",
       "        vertical-align: middle;\n",
       "    }\n",
       "\n",
       "    .dataframe tbody tr th {\n",
       "        vertical-align: top;\n",
       "    }\n",
       "\n",
       "    .dataframe thead th {\n",
       "        text-align: right;\n",
       "    }\n",
       "</style>\n",
       "<table border=\"1\" class=\"dataframe\">\n",
       "  <thead>\n",
       "    <tr style=\"text-align: right;\">\n",
       "      <th></th>\n",
       "      <th>Gender</th>\n",
       "      <th>Married</th>\n",
       "      <th>Dependents</th>\n",
       "      <th>Education</th>\n",
       "      <th>Self_Employed</th>\n",
       "      <th>ApplicantIncome</th>\n",
       "      <th>CoapplicantIncome</th>\n",
       "      <th>LoanAmount</th>\n",
       "      <th>Loan_Amount_Term</th>\n",
       "      <th>Credit_History</th>\n",
       "      <th>Property_Area</th>\n",
       "      <th>Loan_Status</th>\n",
       "    </tr>\n",
       "    <tr>\n",
       "      <th>Loan_ID</th>\n",
       "      <th></th>\n",
       "      <th></th>\n",
       "      <th></th>\n",
       "      <th></th>\n",
       "      <th></th>\n",
       "      <th></th>\n",
       "      <th></th>\n",
       "      <th></th>\n",
       "      <th></th>\n",
       "      <th></th>\n",
       "      <th></th>\n",
       "      <th></th>\n",
       "    </tr>\n",
       "  </thead>\n",
       "  <tbody>\n",
       "    <tr>\n",
       "      <th>LP001002</th>\n",
       "      <td>1</td>\n",
       "      <td>0</td>\n",
       "      <td>0.0</td>\n",
       "      <td>0</td>\n",
       "      <td>0</td>\n",
       "      <td>5849</td>\n",
       "      <td>0.0</td>\n",
       "      <td>146.412162</td>\n",
       "      <td>360.0</td>\n",
       "      <td>1.0</td>\n",
       "      <td>2</td>\n",
       "      <td>1</td>\n",
       "    </tr>\n",
       "    <tr>\n",
       "      <th>LP001003</th>\n",
       "      <td>1</td>\n",
       "      <td>1</td>\n",
       "      <td>1.0</td>\n",
       "      <td>0</td>\n",
       "      <td>0</td>\n",
       "      <td>4583</td>\n",
       "      <td>1508.0</td>\n",
       "      <td>128.000000</td>\n",
       "      <td>360.0</td>\n",
       "      <td>1.0</td>\n",
       "      <td>0</td>\n",
       "      <td>0</td>\n",
       "    </tr>\n",
       "    <tr>\n",
       "      <th>LP001005</th>\n",
       "      <td>1</td>\n",
       "      <td>1</td>\n",
       "      <td>0.0</td>\n",
       "      <td>0</td>\n",
       "      <td>1</td>\n",
       "      <td>3000</td>\n",
       "      <td>0.0</td>\n",
       "      <td>66.000000</td>\n",
       "      <td>360.0</td>\n",
       "      <td>1.0</td>\n",
       "      <td>2</td>\n",
       "      <td>1</td>\n",
       "    </tr>\n",
       "    <tr>\n",
       "      <th>LP001006</th>\n",
       "      <td>1</td>\n",
       "      <td>1</td>\n",
       "      <td>0.0</td>\n",
       "      <td>1</td>\n",
       "      <td>0</td>\n",
       "      <td>2583</td>\n",
       "      <td>2358.0</td>\n",
       "      <td>120.000000</td>\n",
       "      <td>360.0</td>\n",
       "      <td>1.0</td>\n",
       "      <td>2</td>\n",
       "      <td>1</td>\n",
       "    </tr>\n",
       "    <tr>\n",
       "      <th>LP001008</th>\n",
       "      <td>1</td>\n",
       "      <td>0</td>\n",
       "      <td>0.0</td>\n",
       "      <td>0</td>\n",
       "      <td>0</td>\n",
       "      <td>6000</td>\n",
       "      <td>0.0</td>\n",
       "      <td>141.000000</td>\n",
       "      <td>360.0</td>\n",
       "      <td>1.0</td>\n",
       "      <td>2</td>\n",
       "      <td>1</td>\n",
       "    </tr>\n",
       "  </tbody>\n",
       "</table>\n",
       "</div>"
      ],
      "text/plain": [
       "          Gender  Married  Dependents  Education  Self_Employed  \\\n",
       "Loan_ID                                                           \n",
       "LP001002       1        0         0.0          0              0   \n",
       "LP001003       1        1         1.0          0              0   \n",
       "LP001005       1        1         0.0          0              1   \n",
       "LP001006       1        1         0.0          1              0   \n",
       "LP001008       1        0         0.0          0              0   \n",
       "\n",
       "          ApplicantIncome  CoapplicantIncome  LoanAmount  Loan_Amount_Term  \\\n",
       "Loan_ID                                                                      \n",
       "LP001002             5849                0.0  146.412162             360.0   \n",
       "LP001003             4583             1508.0  128.000000             360.0   \n",
       "LP001005             3000                0.0   66.000000             360.0   \n",
       "LP001006             2583             2358.0  120.000000             360.0   \n",
       "LP001008             6000                0.0  141.000000             360.0   \n",
       "\n",
       "          Credit_History  Property_Area  Loan_Status  \n",
       "Loan_ID                                               \n",
       "LP001002             1.0              2            1  \n",
       "LP001003             1.0              0            0  \n",
       "LP001005             1.0              2            1  \n",
       "LP001006             1.0              2            1  \n",
       "LP001008             1.0              2            1  "
      ]
     },
     "execution_count": 12,
     "metadata": {},
     "output_type": "execute_result"
    }
   ],
   "source": [
    "train_data.head()"
   ]
  },
  {
   "cell_type": "markdown",
   "metadata": {},
   "source": [
    "# processing the test data"
   ]
  },
  {
   "cell_type": "code",
   "execution_count": 13,
   "metadata": {},
   "outputs": [
    {
     "name": "stdout",
     "output_type": "stream",
     "text": [
      "(367, 11)\n",
      "          Gender Married  Dependents     Education Self_Employed  \\\n",
      "Loan_ID                                                            \n",
      "LP001015    Male     Yes         0.0      Graduate            No   \n",
      "LP001022    Male     Yes         1.0      Graduate            No   \n",
      "LP001031    Male     Yes         2.0      Graduate            No   \n",
      "LP001035    Male     Yes         2.0      Graduate            No   \n",
      "LP001051    Male      No         0.0  Not Graduate            No   \n",
      "LP001054    Male     Yes         0.0  Not Graduate           Yes   \n",
      "LP001055  Female      No         1.0  Not Graduate            No   \n",
      "LP001056    Male     Yes         2.0  Not Graduate            No   \n",
      "LP001059    Male     Yes         2.0      Graduate           NaN   \n",
      "LP001067    Male      No         0.0  Not Graduate            No   \n",
      "LP001078    Male      No         0.0  Not Graduate            No   \n",
      "LP001082    Male     Yes         1.0      Graduate           NaN   \n",
      "LP001083    Male      No         3.0      Graduate            No   \n",
      "LP001094    Male     Yes         2.0      Graduate           NaN   \n",
      "LP001096  Female      No         0.0      Graduate            No   \n",
      "LP001099    Male      No         1.0      Graduate            No   \n",
      "LP001105    Male     Yes         2.0      Graduate            No   \n",
      "LP001107    Male     Yes         3.0      Graduate            No   \n",
      "LP001108    Male     Yes         0.0      Graduate            No   \n",
      "LP001115    Male      No         0.0      Graduate            No   \n",
      "LP001121    Male     Yes         1.0  Not Graduate            No   \n",
      "LP001124  Female      No         3.0  Not Graduate            No   \n",
      "LP001128     NaN      No         0.0      Graduate            No   \n",
      "LP001135  Female      No         0.0  Not Graduate            No   \n",
      "LP001149    Male     Yes         0.0      Graduate            No   \n",
      "LP001153    Male      No         0.0      Graduate            No   \n",
      "LP001163    Male     Yes         2.0      Graduate            No   \n",
      "LP001169    Male     Yes         0.0      Graduate            No   \n",
      "LP001174    Male     Yes         0.0      Graduate            No   \n",
      "LP001176    Male      No         0.0      Graduate            No   \n",
      "...          ...     ...         ...           ...           ...   \n",
      "LP002856    Male     Yes         0.0      Graduate            No   \n",
      "LP002857    Male     Yes         1.0      Graduate           Yes   \n",
      "LP002858  Female      No         0.0      Graduate            No   \n",
      "LP002860    Male     Yes         0.0      Graduate           Yes   \n",
      "LP002867    Male      No         0.0      Graduate           Yes   \n",
      "LP002869    Male     Yes         3.0  Not Graduate            No   \n",
      "LP002870    Male     Yes         1.0      Graduate            No   \n",
      "LP002876    Male      No         0.0      Graduate            No   \n",
      "LP002878    Male     Yes         3.0      Graduate            No   \n",
      "LP002879    Male     Yes         0.0      Graduate            No   \n",
      "LP002885    Male      No         0.0  Not Graduate            No   \n",
      "LP002890    Male     Yes         2.0  Not Graduate            No   \n",
      "LP002891    Male     Yes         0.0      Graduate           Yes   \n",
      "LP002899    Male     Yes         2.0      Graduate            No   \n",
      "LP002901    Male      No         0.0      Graduate            No   \n",
      "LP002907    Male     Yes         0.0      Graduate            No   \n",
      "LP002920    Male     Yes         0.0      Graduate            No   \n",
      "LP002921    Male     Yes         3.0  Not Graduate            No   \n",
      "LP002932    Male     Yes         3.0      Graduate            No   \n",
      "LP002935    Male     Yes         1.0      Graduate            No   \n",
      "LP002952    Male      No         0.0      Graduate            No   \n",
      "LP002954    Male     Yes         2.0  Not Graduate            No   \n",
      "LP002962    Male      No         0.0      Graduate            No   \n",
      "LP002965  Female     Yes         0.0      Graduate            No   \n",
      "LP002969    Male     Yes         1.0      Graduate            No   \n",
      "LP002971    Male     Yes         3.0  Not Graduate           Yes   \n",
      "LP002975    Male     Yes         0.0      Graduate            No   \n",
      "LP002980    Male      No         0.0      Graduate            No   \n",
      "LP002986    Male     Yes         0.0      Graduate            No   \n",
      "LP002989    Male      No         0.0      Graduate           Yes   \n",
      "\n",
      "          ApplicantIncome  CoapplicantIncome  LoanAmount  Loan_Amount_Term  \\\n",
      "Loan_ID                                                                      \n",
      "LP001015             5720                  0       110.0             360.0   \n",
      "LP001022             3076               1500       126.0             360.0   \n",
      "LP001031             5000               1800       208.0             360.0   \n",
      "LP001035             2340               2546       100.0             360.0   \n",
      "LP001051             3276                  0        78.0             360.0   \n",
      "LP001054             2165               3422       152.0             360.0   \n",
      "LP001055             2226                  0        59.0             360.0   \n",
      "LP001056             3881                  0       147.0             360.0   \n",
      "LP001059            13633                  0       280.0             240.0   \n",
      "LP001067             2400               2400       123.0             360.0   \n",
      "LP001078             3091                  0        90.0             360.0   \n",
      "LP001082             2185               1516       162.0             360.0   \n",
      "LP001083             4166                  0        40.0             180.0   \n",
      "LP001094            12173                  0       166.0             360.0   \n",
      "LP001096             4666                  0       124.0             360.0   \n",
      "LP001099             5667                  0       131.0             360.0   \n",
      "LP001105             4583               2916       200.0             360.0   \n",
      "LP001107             3786                333       126.0             360.0   \n",
      "LP001108             9226               7916       300.0             360.0   \n",
      "LP001115             1300               3470       100.0             180.0   \n",
      "LP001121             1888               1620        48.0             360.0   \n",
      "LP001124             2083                  0        28.0             180.0   \n",
      "LP001128             3909                  0       101.0             360.0   \n",
      "LP001135             3765                  0       125.0             360.0   \n",
      "LP001149             5400               4380       290.0             360.0   \n",
      "LP001153                0              24000       148.0             360.0   \n",
      "LP001163             4363               1250       140.0             360.0   \n",
      "LP001169             7500               3750       275.0             360.0   \n",
      "LP001174             3772                833        57.0             360.0   \n",
      "LP001176             2942               2382       125.0             180.0   \n",
      "...                   ...                ...         ...               ...   \n",
      "LP002856             2292               1558       119.0             360.0   \n",
      "LP002857             2360               3355        87.0             240.0   \n",
      "LP002858             4333               2333       162.0             360.0   \n",
      "LP002860             2623               4831       122.0             180.0   \n",
      "LP002867             3972               4275       187.0             360.0   \n",
      "LP002869             3522                  0        81.0             180.0   \n",
      "LP002870             4700                  0        80.0             360.0   \n",
      "LP002876             6858                  0       176.0             360.0   \n",
      "LP002878             8334                  0       260.0             360.0   \n",
      "LP002879             3391               1966       133.0             360.0   \n",
      "LP002885             2868                  0        70.0             360.0   \n",
      "LP002890             3418               1380       135.0             360.0   \n",
      "LP002891             2500                296       137.0             300.0   \n",
      "LP002899             8667                  0       254.0             360.0   \n",
      "LP002901             2283              15000       106.0             360.0   \n",
      "LP002907             5817                910       109.0             360.0   \n",
      "LP002920             5119               3769       120.0             360.0   \n",
      "LP002921             5316                187       158.0             180.0   \n",
      "LP002932             7603               1213       197.0             360.0   \n",
      "LP002935             3791               1936        85.0             360.0   \n",
      "LP002952             2500                  0        60.0             360.0   \n",
      "LP002954             3132                  0        76.0             360.0   \n",
      "LP002962             4000               2667       152.0             360.0   \n",
      "LP002965             8550               4255        96.0             360.0   \n",
      "LP002969             2269               2167        99.0             360.0   \n",
      "LP002971             4009               1777       113.0             360.0   \n",
      "LP002975             4158                709       115.0             360.0   \n",
      "LP002980             3250               1993       126.0             360.0   \n",
      "LP002986             5000               2393       158.0             360.0   \n",
      "LP002989             9200                  0        98.0             180.0   \n",
      "\n",
      "          Credit_History Property_Area  \n",
      "Loan_ID                                 \n",
      "LP001015             1.0         Urban  \n",
      "LP001022             1.0         Urban  \n",
      "LP001031             1.0         Urban  \n",
      "LP001035             NaN         Urban  \n",
      "LP001051             1.0         Urban  \n",
      "LP001054             1.0         Urban  \n",
      "LP001055             1.0     Semiurban  \n",
      "LP001056             0.0         Rural  \n",
      "LP001059             1.0         Urban  \n",
      "LP001067             1.0     Semiurban  \n",
      "LP001078             1.0         Urban  \n",
      "LP001082             1.0     Semiurban  \n",
      "LP001083             NaN         Urban  \n",
      "LP001094             0.0     Semiurban  \n",
      "LP001096             1.0     Semiurban  \n",
      "LP001099             1.0         Urban  \n",
      "LP001105             1.0         Urban  \n",
      "LP001107             1.0     Semiurban  \n",
      "LP001108             1.0         Urban  \n",
      "LP001115             1.0     Semiurban  \n",
      "LP001121             1.0         Urban  \n",
      "LP001124             1.0         Urban  \n",
      "LP001128             1.0         Urban  \n",
      "LP001135             1.0         Urban  \n",
      "LP001149             1.0         Urban  \n",
      "LP001153             0.0         Rural  \n",
      "LP001163             NaN         Urban  \n",
      "LP001169             1.0         Urban  \n",
      "LP001174             NaN     Semiurban  \n",
      "LP001176             1.0         Urban  \n",
      "...                  ...           ...  \n",
      "LP002856             1.0         Urban  \n",
      "LP002857             1.0         Rural  \n",
      "LP002858             0.0         Rural  \n",
      "LP002860             1.0     Semiurban  \n",
      "LP002867             1.0         Rural  \n",
      "LP002869             1.0         Rural  \n",
      "LP002870             1.0         Urban  \n",
      "LP002876             1.0         Rural  \n",
      "LP002878             1.0         Urban  \n",
      "LP002879             0.0         Rural  \n",
      "LP002885             1.0         Urban  \n",
      "LP002890             1.0         Urban  \n",
      "LP002891             1.0         Rural  \n",
      "LP002899             1.0         Rural  \n",
      "LP002901             NaN         Rural  \n",
      "LP002907             1.0         Urban  \n",
      "LP002920             1.0         Rural  \n",
      "LP002921             0.0     Semiurban  \n",
      "LP002932             1.0         Urban  \n",
      "LP002935             1.0         Urban  \n",
      "LP002952             1.0         Urban  \n",
      "LP002954             NaN         Rural  \n",
      "LP002962             1.0     Semiurban  \n",
      "LP002965             NaN         Urban  \n",
      "LP002969             1.0     Semiurban  \n",
      "LP002971             1.0         Urban  \n",
      "LP002975             1.0         Urban  \n",
      "LP002980             NaN     Semiurban  \n",
      "LP002986             1.0         Rural  \n",
      "LP002989             1.0         Rural  \n",
      "\n",
      "[367 rows x 11 columns]\n"
     ]
    }
   ],
   "source": [
    "print(test_data.shape)\n",
    "print(test_data)"
   ]
  },
  {
   "cell_type": "code",
   "execution_count": 14,
   "metadata": {},
   "outputs": [
    {
     "name": "stdout",
     "output_type": "stream",
     "text": [
      "Gender               11\n",
      "Married               0\n",
      "Dependents           10\n",
      "Education             0\n",
      "Self_Employed        23\n",
      "ApplicantIncome       0\n",
      "CoapplicantIncome     0\n",
      "LoanAmount            5\n",
      "Loan_Amount_Term      6\n",
      "Credit_History       29\n",
      "Property_Area         0\n",
      "dtype: int64\n"
     ]
    }
   ],
   "source": [
    "print(test_data.isnull().sum())"
   ]
  },
  {
   "cell_type": "code",
   "execution_count": 15,
   "metadata": {},
   "outputs": [],
   "source": [
    "colname1=['Gender','Dependents','Self_Employed','Loan_Amount_Term']\n",
    "for x in colname1:\n",
    "    test_data[x].fillna(test_data[x].mode()[0],inplace=True)"
   ]
  },
  {
   "cell_type": "code",
   "execution_count": 16,
   "metadata": {},
   "outputs": [
    {
     "name": "stdout",
     "output_type": "stream",
     "text": [
      "Gender                0\n",
      "Married               0\n",
      "Dependents            0\n",
      "Education             0\n",
      "Self_Employed         0\n",
      "ApplicantIncome       0\n",
      "CoapplicantIncome     0\n",
      "LoanAmount            5\n",
      "Loan_Amount_Term      0\n",
      "Credit_History       29\n",
      "Property_Area         0\n",
      "dtype: int64\n"
     ]
    }
   ],
   "source": [
    "print(test_data.isnull().sum())"
   ]
  },
  {
   "cell_type": "code",
   "execution_count": 18,
   "metadata": {},
   "outputs": [
    {
     "name": "stdout",
     "output_type": "stream",
     "text": [
      "Gender                0\n",
      "Married               0\n",
      "Dependents            0\n",
      "Education             0\n",
      "Self_Employed         0\n",
      "ApplicantIncome       0\n",
      "CoapplicantIncome     0\n",
      "LoanAmount            0\n",
      "Loan_Amount_Term      0\n",
      "Credit_History       29\n",
      "Property_Area         0\n",
      "dtype: int64\n"
     ]
    }
   ],
   "source": [
    "test_data['LoanAmount'].fillna(test_data['LoanAmount'].mean(),inplace=True)\n",
    "print(test_data.isnull().sum())"
   ]
  },
  {
   "cell_type": "code",
   "execution_count": 19,
   "metadata": {},
   "outputs": [
    {
     "name": "stdout",
     "output_type": "stream",
     "text": [
      "Gender               0\n",
      "Married              0\n",
      "Dependents           0\n",
      "Education            0\n",
      "Self_Employed        0\n",
      "ApplicantIncome      0\n",
      "CoapplicantIncome    0\n",
      "LoanAmount           0\n",
      "Loan_Amount_Term     0\n",
      "Credit_History       0\n",
      "Property_Area        0\n",
      "dtype: int64\n"
     ]
    }
   ],
   "source": [
    "test_data['Credit_History'].fillna(value=0,inplace=True)\n",
    "#train_data['Credit_History']=train_data['Credit_History'].fillna(value=0)\n",
    "print(test_data.isnull().sum())"
   ]
  },
  {
   "cell_type": "code",
   "execution_count": 20,
   "metadata": {},
   "outputs": [],
   "source": [
    "#transforming categorical dataa to numerical\n",
    "from sklearn import preprocessing\n",
    "colname=['Gender','Married','Education','Self_Employed','Property_Area']\n",
    "le=preprocessing.LabelEncoder()\n",
    "for x in colname:\n",
    "    test_data[x]=le.fit_transform(test_data[x])\n",
    "    \n",
    "#converting loan status as y-->1 and N-->0"
   ]
  },
  {
   "cell_type": "code",
   "execution_count": 21,
   "metadata": {},
   "outputs": [
    {
     "name": "stdout",
     "output_type": "stream",
     "text": [
      "          Gender  Married  Dependents  Education  Self_Employed  \\\n",
      "Loan_ID                                                           \n",
      "LP001015       1        1         0.0          0              0   \n",
      "LP001022       1        1         1.0          0              0   \n",
      "LP001031       1        1         2.0          0              0   \n",
      "LP001035       1        1         2.0          0              0   \n",
      "LP001051       1        0         0.0          1              0   \n",
      "\n",
      "          ApplicantIncome  CoapplicantIncome  LoanAmount  Loan_Amount_Term  \\\n",
      "Loan_ID                                                                      \n",
      "LP001015             5720                  0       110.0             360.0   \n",
      "LP001022             3076               1500       126.0             360.0   \n",
      "LP001031             5000               1800       208.0             360.0   \n",
      "LP001035             2340               2546       100.0             360.0   \n",
      "LP001051             3276                  0        78.0             360.0   \n",
      "\n",
      "          Credit_History  Property_Area  \n",
      "Loan_ID                                  \n",
      "LP001015             1.0              2  \n",
      "LP001022             1.0              2  \n",
      "LP001031             1.0              2  \n",
      "LP001035             0.0              2  \n",
      "LP001051             1.0              2  \n"
     ]
    }
   ],
   "source": [
    "print(test_data.head())"
   ]
  },
  {
   "cell_type": "markdown",
   "metadata": {},
   "source": [
    "# creating training and testing dataset and running the model"
   ]
  },
  {
   "cell_type": "code",
   "execution_count": 22,
   "metadata": {},
   "outputs": [],
   "source": [
    "X_train=train_data.values[:,:-1]\n",
    "Y_train=train_data.values[:,-1]\n",
    "Y_train=Y_train.astype(int)    #convering into integer"
   ]
  },
  {
   "cell_type": "code",
   "execution_count": 23,
   "metadata": {},
   "outputs": [],
   "source": [
    "#test datahead()\n",
    "X_test=test_data.values[:,:]"
   ]
  },
  {
   "cell_type": "code",
   "execution_count": 24,
   "metadata": {},
   "outputs": [],
   "source": [
    "#Here fit function will work once only of train data and transform to both train as well as test data\n",
    "\n",
    "from sklearn.preprocessing import StandardScaler\n",
    "scaler=StandardScaler()\n",
    "scaler.fit(X_train)       #Here it will create a range for both\n",
    "X_train=scaler.transform(X_train)\n",
    "X_test=scaler.transform(X_test)\n"
   ]
  },
  {
   "cell_type": "code",
   "execution_count": 25,
   "metadata": {},
   "outputs": [
    {
     "data": {
      "text/plain": [
       "array([[ 0.47234264, -1.37208932, -0.73780632, ...,  0.2732313 ,\n",
       "         0.54095432,  1.22329839],\n",
       "       [ 0.47234264,  0.72881553,  0.25346957, ...,  0.2732313 ,\n",
       "         0.54095432, -1.31851281],\n",
       "       [ 0.47234264,  0.72881553, -0.73780632, ...,  0.2732313 ,\n",
       "         0.54095432,  1.22329839],\n",
       "       ...,\n",
       "       [ 0.47234264,  0.72881553,  0.25346957, ...,  0.2732313 ,\n",
       "         0.54095432,  1.22329839],\n",
       "       [ 0.47234264,  0.72881553,  1.24474546, ...,  0.2732313 ,\n",
       "         0.54095432,  1.22329839],\n",
       "       [-2.11710719, -1.37208932, -0.73780632, ...,  0.2732313 ,\n",
       "        -1.84858491, -0.04760721]])"
      ]
     },
     "execution_count": 25,
     "metadata": {},
     "output_type": "execute_result"
    }
   ],
   "source": [
    "X_train"
   ]
  },
  {
   "cell_type": "code",
   "execution_count": 26,
   "metadata": {},
   "outputs": [
    {
     "data": {
      "text/plain": [
       "array([[ 0.47234264,  0.72881553, -0.73780632, ...,  0.2732313 ,\n",
       "         0.54095432,  1.22329839],\n",
       "       [ 0.47234264,  0.72881553,  0.25346957, ...,  0.2732313 ,\n",
       "         0.54095432,  1.22329839],\n",
       "       [ 0.47234264,  0.72881553,  1.24474546, ...,  0.2732313 ,\n",
       "         0.54095432,  1.22329839],\n",
       "       ...,\n",
       "       [ 0.47234264, -1.37208932, -0.73780632, ...,  0.2732313 ,\n",
       "        -1.84858491, -0.04760721],\n",
       "       [ 0.47234264,  0.72881553, -0.73780632, ...,  0.2732313 ,\n",
       "         0.54095432, -1.31851281],\n",
       "       [ 0.47234264, -1.37208932, -0.73780632, ..., -2.52283563,\n",
       "         0.54095432, -1.31851281]])"
      ]
     },
     "execution_count": 26,
     "metadata": {},
     "output_type": "execute_result"
    }
   ],
   "source": [
    "X_test"
   ]
  },
  {
   "cell_type": "code",
   "execution_count": 32,
   "metadata": {
    "collapsed": true
   },
   "outputs": [
    {
     "name": "stdout",
     "output_type": "stream",
     "text": [
      "[1, 1, 1, 0, 1, 1, 1, 0, 1, 1, 1, 1, 0, 0, 1, 1, 1, 1, 1, 1, 1, 1, 1, 1, 1, 1, 0, 1, 0, 1, 1, 1, 1, 1, 1, 0, 1, 1, 1, 1, 1, 1, 1, 1, 1, 0, 1, 1, 1, 1, 1, 1, 1, 1, 1, 0, 1, 1, 0, 1, 1, 1, 1, 0, 1, 1, 0, 0, 1, 0, 1, 1, 1, 1, 1, 1, 1, 1, 1, 1, 0, 1, 0, 1, 0, 1, 1, 1, 1, 1, 0, 1, 1, 1, 0, 1, 1, 1, 1, 0, 1, 0, 1, 1, 0, 1, 0, 1, 1, 1, 1, 1, 1, 1, 1, 0, 1, 0, 0, 0, 1, 1, 1, 0, 0, 1, 0, 1, 1, 1, 1, 1, 1, 1, 1, 1, 1, 1, 1, 0, 0, 1, 0, 1, 1, 1, 1, 0, 1, 1, 1, 1, 1, 0, 1, 1, 1, 1, 1, 1, 1, 0, 1, 1, 0, 0, 0, 1, 1, 1, 1, 1, 1, 0, 0, 1, 1, 0, 1, 0, 1, 1, 1, 1, 1, 0, 1, 1, 1, 1, 1, 1, 0, 0, 1, 1, 0, 1, 0, 1, 1, 1, 0, 1, 1, 1, 1, 1, 1, 1, 1, 0, 1, 1, 1, 1, 1, 1, 1, 1, 0, 1, 1, 1, 0, 1, 1, 1, 1, 0, 1, 1, 1, 1, 1, 0, 0, 1, 1, 0, 1, 0, 1, 0, 1, 0, 1, 1, 1, 1, 0, 1, 1, 1, 1, 0, 1, 1, 1, 1, 1, 1, 0, 1, 1, 0, 0, 1, 0, 1, 1, 1, 1, 0, 0, 1, 1, 1, 0, 1, 1, 1, 0, 1, 1, 1, 0, 1, 1, 1, 1, 1, 1, 0, 1, 1, 1, 1, 1, 1, 1, 0, 1, 1, 1, 0, 1, 1, 1, 1, 1, 1, 1, 1, 1, 1, 1, 0, 1, 1, 1, 1, 1, 1, 1, 1, 1, 1, 1, 0, 1, 1, 1, 1, 1, 1, 0, 1, 1, 0, 1, 1, 1, 1, 1, 1, 0, 1, 1, 1, 1, 1, 1, 1, 0, 1, 1, 1, 0, 1, 0, 1, 1, 1, 0, 1, 1]\n"
     ]
    }
   ],
   "source": [
    "from sklearn import svm\n",
    "svc_model=svm.SVC(kernel='rbf',C=1.0,gamma=0.1)    #SVC--> support vector classifier\n",
    "from sklearn.linear_model import LogisticRegression\n",
    "#svm_model=LogisticRegression()\n",
    "svc_model.fit(X_train,Y_train)\n",
    "Y_pred=svc_model.predict(X_test)\n",
    "print(list(Y_pred))"
   ]
  },
  {
   "cell_type": "code",
   "execution_count": 29,
   "metadata": {},
   "outputs": [
    {
     "data": {
      "text/html": [
       "<div>\n",
       "<style scoped>\n",
       "    .dataframe tbody tr th:only-of-type {\n",
       "        vertical-align: middle;\n",
       "    }\n",
       "\n",
       "    .dataframe tbody tr th {\n",
       "        vertical-align: top;\n",
       "    }\n",
       "\n",
       "    .dataframe thead th {\n",
       "        text-align: right;\n",
       "    }\n",
       "</style>\n",
       "<table border=\"1\" class=\"dataframe\">\n",
       "  <thead>\n",
       "    <tr style=\"text-align: right;\">\n",
       "      <th></th>\n",
       "      <th>Loan_ID</th>\n",
       "      <th>Gender</th>\n",
       "      <th>Married</th>\n",
       "      <th>Dependents</th>\n",
       "      <th>Education</th>\n",
       "      <th>Self_Employed</th>\n",
       "      <th>ApplicantIncome</th>\n",
       "      <th>CoapplicantIncome</th>\n",
       "      <th>LoanAmount</th>\n",
       "      <th>Loan_Amount_Term</th>\n",
       "      <th>Credit_History</th>\n",
       "      <th>Property_Area</th>\n",
       "      <th>Y_prediction</th>\n",
       "    </tr>\n",
       "  </thead>\n",
       "  <tbody>\n",
       "    <tr>\n",
       "      <th>0</th>\n",
       "      <td>LP001015</td>\n",
       "      <td>Male</td>\n",
       "      <td>Yes</td>\n",
       "      <td>0.0</td>\n",
       "      <td>Graduate</td>\n",
       "      <td>No</td>\n",
       "      <td>5720</td>\n",
       "      <td>0</td>\n",
       "      <td>110.0</td>\n",
       "      <td>360.0</td>\n",
       "      <td>1.0</td>\n",
       "      <td>Urban</td>\n",
       "      <td>1</td>\n",
       "    </tr>\n",
       "    <tr>\n",
       "      <th>1</th>\n",
       "      <td>LP001022</td>\n",
       "      <td>Male</td>\n",
       "      <td>Yes</td>\n",
       "      <td>1.0</td>\n",
       "      <td>Graduate</td>\n",
       "      <td>No</td>\n",
       "      <td>3076</td>\n",
       "      <td>1500</td>\n",
       "      <td>126.0</td>\n",
       "      <td>360.0</td>\n",
       "      <td>1.0</td>\n",
       "      <td>Urban</td>\n",
       "      <td>1</td>\n",
       "    </tr>\n",
       "    <tr>\n",
       "      <th>2</th>\n",
       "      <td>LP001031</td>\n",
       "      <td>Male</td>\n",
       "      <td>Yes</td>\n",
       "      <td>2.0</td>\n",
       "      <td>Graduate</td>\n",
       "      <td>No</td>\n",
       "      <td>5000</td>\n",
       "      <td>1800</td>\n",
       "      <td>208.0</td>\n",
       "      <td>360.0</td>\n",
       "      <td>1.0</td>\n",
       "      <td>Urban</td>\n",
       "      <td>1</td>\n",
       "    </tr>\n",
       "    <tr>\n",
       "      <th>3</th>\n",
       "      <td>LP001035</td>\n",
       "      <td>Male</td>\n",
       "      <td>Yes</td>\n",
       "      <td>2.0</td>\n",
       "      <td>Graduate</td>\n",
       "      <td>No</td>\n",
       "      <td>2340</td>\n",
       "      <td>2546</td>\n",
       "      <td>100.0</td>\n",
       "      <td>360.0</td>\n",
       "      <td>NaN</td>\n",
       "      <td>Urban</td>\n",
       "      <td>0</td>\n",
       "    </tr>\n",
       "    <tr>\n",
       "      <th>4</th>\n",
       "      <td>LP001051</td>\n",
       "      <td>Male</td>\n",
       "      <td>No</td>\n",
       "      <td>0.0</td>\n",
       "      <td>Not Graduate</td>\n",
       "      <td>No</td>\n",
       "      <td>3276</td>\n",
       "      <td>0</td>\n",
       "      <td>78.0</td>\n",
       "      <td>360.0</td>\n",
       "      <td>1.0</td>\n",
       "      <td>Urban</td>\n",
       "      <td>1</td>\n",
       "    </tr>\n",
       "  </tbody>\n",
       "</table>\n",
       "</div>"
      ],
      "text/plain": [
       "    Loan_ID Gender Married  Dependents     Education Self_Employed  \\\n",
       "0  LP001015   Male     Yes         0.0      Graduate            No   \n",
       "1  LP001022   Male     Yes         1.0      Graduate            No   \n",
       "2  LP001031   Male     Yes         2.0      Graduate            No   \n",
       "3  LP001035   Male     Yes         2.0      Graduate            No   \n",
       "4  LP001051   Male      No         0.0  Not Graduate            No   \n",
       "\n",
       "   ApplicantIncome  CoapplicantIncome  LoanAmount  Loan_Amount_Term  \\\n",
       "0             5720                  0       110.0             360.0   \n",
       "1             3076               1500       126.0             360.0   \n",
       "2             5000               1800       208.0             360.0   \n",
       "3             2340               2546       100.0             360.0   \n",
       "4             3276                  0        78.0             360.0   \n",
       "\n",
       "   Credit_History Property_Area  Y_prediction  \n",
       "0             1.0         Urban             1  \n",
       "1             1.0         Urban             1  \n",
       "2             1.0         Urban             1  \n",
       "3             NaN         Urban             0  \n",
       "4             1.0         Urban             1  "
      ]
     },
     "execution_count": 29,
     "metadata": {},
     "output_type": "execute_result"
    }
   ],
   "source": [
    "test_data=pd.read_csv(r'D:\\MAMTA\\Data Set\\python\\risk_analytics_test.csv',header=0)\n",
    "test_data[\"Y_prediction\"]=Y_pred\n",
    "test_data.head()"
   ]
  },
  {
   "cell_type": "code",
   "execution_count": 30,
   "metadata": {},
   "outputs": [],
   "source": [
    "test_data.to_csv(r'D:\\MAMTA\\Data Set\\python\\test_data.csv')   #to create a file"
   ]
  },
  {
   "cell_type": "code",
   "execution_count": null,
   "metadata": {},
   "outputs": [],
   "source": [
    "#Create a validation set: train :- train(70%)   \n",
    "#                                 validate(30%) we get y actual and y predict\n",
    "#                        test:-"
   ]
  },
  {
   "cell_type": "code",
   "execution_count": 40,
   "metadata": {},
   "outputs": [
    {
     "name": "stdout",
     "output_type": "stream",
     "text": [
      "KFold(n_splits=10, random_state=None, shuffle=False)\n",
      "[0.77419355 0.82258065 0.74193548 0.72580645 0.7704918  0.68852459\n",
      " 0.80327869 0.7704918  0.7704918  0.83606557]\n",
      "0.770386039132734\n"
     ]
    }
   ],
   "source": [
    "#classifier=(LogisticRegression())\n",
    "svc_model=svm.SVC(kernel='rbf',C=10.0,gamma=0.001)\n",
    "#performing kfold_cross_validation\n",
    "from sklearn.model_selection import KFold\n",
    "kfold_cv=KFold(n_splits=10)\n",
    "print(kfold_cv)\n",
    "\n",
    "from sklearn.model_selection import cross_val_score    #perform the iteration\n",
    "#running the model using scoring metric as accuracy\n",
    "kfold_cv_result=cross_val_score(estimator=svc_model,X=X_train,\n",
    "y=Y_train, cv=kfold_cv)\n",
    "print(kfold_cv_result)\n",
    "#finding the mean\n",
    "print(kfold_cv_result.mean())"
   ]
  },
  {
   "cell_type": "code",
   "execution_count": 41,
   "metadata": {},
   "outputs": [
    {
     "name": "stdout",
     "output_type": "stream",
     "text": [
      "KFold(n_splits=10, random_state=None, shuffle=False)\n",
      "[0.77419355 0.82258065 0.74193548 0.72580645 0.7704918  0.68852459\n",
      " 0.80327869 0.7704918  0.78688525 0.83606557]\n",
      "0.772025383395029\n"
     ]
    },
    {
     "name": "stderr",
     "output_type": "stream",
     "text": [
      "C:\\Users\\Mamta\\Anaconda3\\lib\\site-packages\\sklearn\\linear_model\\logistic.py:433: FutureWarning: Default solver will be changed to 'lbfgs' in 0.22. Specify a solver to silence this warning.\n",
      "  FutureWarning)\n",
      "C:\\Users\\Mamta\\Anaconda3\\lib\\site-packages\\sklearn\\linear_model\\logistic.py:433: FutureWarning: Default solver will be changed to 'lbfgs' in 0.22. Specify a solver to silence this warning.\n",
      "  FutureWarning)\n",
      "C:\\Users\\Mamta\\Anaconda3\\lib\\site-packages\\sklearn\\linear_model\\logistic.py:433: FutureWarning: Default solver will be changed to 'lbfgs' in 0.22. Specify a solver to silence this warning.\n",
      "  FutureWarning)\n",
      "C:\\Users\\Mamta\\Anaconda3\\lib\\site-packages\\sklearn\\linear_model\\logistic.py:433: FutureWarning: Default solver will be changed to 'lbfgs' in 0.22. Specify a solver to silence this warning.\n",
      "  FutureWarning)\n",
      "C:\\Users\\Mamta\\Anaconda3\\lib\\site-packages\\sklearn\\linear_model\\logistic.py:433: FutureWarning: Default solver will be changed to 'lbfgs' in 0.22. Specify a solver to silence this warning.\n",
      "  FutureWarning)\n",
      "C:\\Users\\Mamta\\Anaconda3\\lib\\site-packages\\sklearn\\linear_model\\logistic.py:433: FutureWarning: Default solver will be changed to 'lbfgs' in 0.22. Specify a solver to silence this warning.\n",
      "  FutureWarning)\n",
      "C:\\Users\\Mamta\\Anaconda3\\lib\\site-packages\\sklearn\\linear_model\\logistic.py:433: FutureWarning: Default solver will be changed to 'lbfgs' in 0.22. Specify a solver to silence this warning.\n",
      "  FutureWarning)\n",
      "C:\\Users\\Mamta\\Anaconda3\\lib\\site-packages\\sklearn\\linear_model\\logistic.py:433: FutureWarning: Default solver will be changed to 'lbfgs' in 0.22. Specify a solver to silence this warning.\n",
      "  FutureWarning)\n",
      "C:\\Users\\Mamta\\Anaconda3\\lib\\site-packages\\sklearn\\linear_model\\logistic.py:433: FutureWarning: Default solver will be changed to 'lbfgs' in 0.22. Specify a solver to silence this warning.\n",
      "  FutureWarning)\n",
      "C:\\Users\\Mamta\\Anaconda3\\lib\\site-packages\\sklearn\\linear_model\\logistic.py:433: FutureWarning: Default solver will be changed to 'lbfgs' in 0.22. Specify a solver to silence this warning.\n",
      "  FutureWarning)\n"
     ]
    }
   ],
   "source": [
    "#classifier=(LogisticRegression())\n",
    "svc_model=svm.SVC(kernel='rbf',C=10.0,gamma=0.001)\n",
    "#performing kfold_cross_validation\n",
    "from sklearn.model_selection import KFold\n",
    "kfold_cv=KFold(n_splits=10)\n",
    "print(kfold_cv)\n",
    "\n",
    "from sklearn.model_selection import cross_val_score    #perform the iteration\n",
    "#running the model using scoring metric as accuracy\n",
    "kfold_cv_result=cross_val_score(estimator=classifier,X=X_train,\n",
    "y=Y_train, cv=kfold_cv)\n",
    "print(kfold_cv_result)\n",
    "#finding the mean\n",
    "print(kfold_cv_result.mean())"
   ]
  },
  {
   "cell_type": "code",
   "execution_count": null,
   "metadata": {},
   "outputs": [],
   "source": []
  },
  {
   "cell_type": "code",
   "execution_count": null,
   "metadata": {},
   "outputs": [],
   "source": []
  },
  {
   "cell_type": "code",
   "execution_count": null,
   "metadata": {},
   "outputs": [],
   "source": []
  }
 ],
 "metadata": {
  "kernelspec": {
   "display_name": "Python 3",
   "language": "python",
   "name": "python3"
  },
  "language_info": {
   "codemirror_mode": {
    "name": "ipython",
    "version": 3
   },
   "file_extension": ".py",
   "mimetype": "text/x-python",
   "name": "python",
   "nbconvert_exporter": "python",
   "pygments_lexer": "ipython3",
   "version": "3.7.3"
  }
 },
 "nbformat": 4,
 "nbformat_minor": 2
}
