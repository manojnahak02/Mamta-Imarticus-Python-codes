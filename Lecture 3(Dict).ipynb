{
 "cells": [
  {
   "cell_type": "code",
   "execution_count": null,
   "metadata": {},
   "outputs": [],
   "source": [
    "#Dictionary :-\n",
    "#declaration=dict()  two value is require (If we pass another value more then 2 erroe will occur )\n",
    "#{Key:value,K:v}  (before : key and after : we can pass multiple values)\n",
    "#Mixed data type allowed\n",
    "#valued could be repetitive\n",
    "#keys should be unique  (if not it will replace the previous value)\n",
    "#accesing done with keys\n",
    "#It preserves the order which we are passing while making the dictionary\n",
    "#duplicate values are allowed in all datatype except sets\n",
    "#Mutable"
   ]
  },
  {
   "cell_type": "code",
   "execution_count": 2,
   "metadata": {},
   "outputs": [
    {
     "name": "stdout",
     "output_type": "stream",
     "text": [
      "{1: 'A', 2: 'B'}\n",
      "{'name': ['john', 'nikita', 'alex'], 'ID': [2, 4, 3]}\n",
      "{'fruit': 'mango', 2: 'mango'}\n"
     ]
    }
   ],
   "source": [
    "#Creating a dictionary\n",
    "my_d ={}\n",
    "my_d ={1:'A',2:'B'}\n",
    "print(my_d)\n",
    "my_d ={'name':['john','nikita','alex'],\"ID\":[2,4,3]}\n",
    "print(my_d)\n",
    "my_d = dict([(\"fruit\",\"apple\"),(2,\"mango\"),(\"fruit\",\"mango\")])\n",
    "print(my_d)"
   ]
  },
  {
   "cell_type": "code",
   "execution_count": 5,
   "metadata": {},
   "outputs": [
    {
     "name": "stdout",
     "output_type": "stream",
     "text": [
      "Mamta\n"
     ]
    }
   ],
   "source": [
    "#Accesing values\n",
    "my_d = {'name':'Mamta','age':24}\n",
    "print(my_d['name'])\n",
    "#print(my_d[\"add\"])  #Error"
   ]
  },
  {
   "cell_type": "code",
   "execution_count": 6,
   "metadata": {},
   "outputs": [
    {
     "name": "stdout",
     "output_type": "stream",
     "text": [
      "{'name': 'Mamta', 'age': 12}\n"
     ]
    }
   ],
   "source": [
    "#updating\n",
    "my_d['age'] = 12  #if the key is present it will change the value\n",
    "print(my_d)\n",
    "my_d['address'] = 'Mumbai'  #if the key is not present will add the key and value which is associated to this"
   ]
  },
  {
   "cell_type": "code",
   "execution_count": 9,
   "metadata": {},
   "outputs": [
    {
     "name": "stdout",
     "output_type": "stream",
     "text": [
      "{1: 1, 2: 4, 3: 9, 4: 16}\n"
     ]
    }
   ],
   "source": [
    "#deleting\n",
    "squares = {1:1,2:4,3:9,4:16,5:25}\n",
    "\n",
    "del squares[5]   #not a index number 5 is a key value pair\n",
    "print(squares)\n",
    "#squares.clear()\n",
    "#print(squares)\n"
   ]
  },
  {
   "cell_type": "code",
   "execution_count": 12,
   "metadata": {},
   "outputs": [
    {
     "data": {
      "text/plain": [
       "dict_values([1, 4, 9, 16])"
      ]
     },
     "execution_count": 12,
     "metadata": {},
     "output_type": "execute_result"
    }
   ],
   "source": [
    "squares.values()"
   ]
  },
  {
   "cell_type": "code",
   "execution_count": 13,
   "metadata": {},
   "outputs": [
    {
     "data": {
      "text/plain": [
       "dict_keys([1, 2, 3, 4])"
      ]
     },
     "execution_count": 13,
     "metadata": {},
     "output_type": "execute_result"
    }
   ],
   "source": [
    "squares.keys()"
   ]
  },
  {
   "cell_type": "code",
   "execution_count": 16,
   "metadata": {},
   "outputs": [
    {
     "name": "stdout",
     "output_type": "stream",
     "text": [
      "{1: 10, 2: 20, 3: 30, 4: 40}\n"
     ]
    }
   ],
   "source": [
    "a=[1,2,3,4,5,6]\n",
    "b=(10,20,30,40)\n",
    "print(dict(zip(a,b)))     #to merge two different datatype to create dictionary we use zip function with dict"
   ]
  },
  {
   "cell_type": "code",
   "execution_count": null,
   "metadata": {},
   "outputs": [],
   "source": []
  },
  {
   "cell_type": "code",
   "execution_count": null,
   "metadata": {},
   "outputs": [],
   "source": []
  },
  {
   "cell_type": "code",
   "execution_count": null,
   "metadata": {},
   "outputs": [],
   "source": []
  }
 ],
 "metadata": {
  "kernelspec": {
   "display_name": "Python 3",
   "language": "python",
   "name": "python3"
  },
  "language_info": {
   "codemirror_mode": {
    "name": "ipython",
    "version": 3
   },
   "file_extension": ".py",
   "mimetype": "text/x-python",
   "name": "python",
   "nbconvert_exporter": "python",
   "pygments_lexer": "ipython3",
   "version": "3.7.3"
  }
 },
 "nbformat": 4,
 "nbformat_minor": 2
}
